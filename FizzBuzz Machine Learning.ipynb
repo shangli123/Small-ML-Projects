{
 "cells": [
  {
   "cell_type": "markdown",
   "metadata": {},
   "source": [
    "# Solving Fizz Buzz using machine learning\n",
    "This topic is inspired by one of Joel Grus's blog: [Fizz Buzz in Tensorflow](https://joelgrus.com/2016/05/23/fizz-buzz-in-tensorflow/ \"With a Title\"), where he gives a funny story about solving this simple algorithmic interview question using neuron networks. In this topic, we gonna repeat this calculating process using Keras and other machine learning classifiers as practice.\n"
   ]
  },
  {
   "cell_type": "code",
   "execution_count": null,
   "metadata": {},
   "outputs": [],
   "source": []
  },
  {
   "cell_type": "code",
   "execution_count": 1,
   "metadata": {},
   "outputs": [],
   "source": [
    "import numpy as np"
   ]
  },
  {
   "cell_type": "code",
   "execution_count": 4,
   "metadata": {},
   "outputs": [],
   "source": [
    "a = 14"
   ]
  },
  {
   "cell_type": "code",
   "execution_count": 42,
   "metadata": {},
   "outputs": [],
   "source": [
    "b = '{:010b}'.format(a)"
   ]
  },
  {
   "cell_type": "code",
   "execution_count": 47,
   "metadata": {},
   "outputs": [
    {
     "data": {
      "text/plain": [
       "'0000001110'"
      ]
     },
     "execution_count": 47,
     "metadata": {},
     "output_type": "execute_result"
    }
   ],
   "source": [
    "b"
   ]
  },
  {
   "cell_type": "code",
   "execution_count": null,
   "metadata": {},
   "outputs": [],
   "source": []
  },
  {
   "cell_type": "code",
   "execution_count": 60,
   "metadata": {},
   "outputs": [],
   "source": [
    "c = np.array(list(b))\n"
   ]
  },
  {
   "cell_type": "code",
   "execution_count": 58,
   "metadata": {},
   "outputs": [
    {
     "data": {
      "text/plain": [
       "array(['0', '0', '0', '0', '0', '0', '1', '1', '1', '0'], dtype='<U1')"
      ]
     },
     "execution_count": 58,
     "metadata": {},
     "output_type": "execute_result"
    }
   ],
   "source": [
    "c"
   ]
  },
  {
   "cell_type": "code",
   "execution_count": 59,
   "metadata": {},
   "outputs": [
    {
     "data": {
      "text/plain": [
       "'0'"
      ]
     },
     "execution_count": 59,
     "metadata": {},
     "output_type": "execute_result"
    }
   ],
   "source": [
    "c[0]"
   ]
  },
  {
   "cell_type": "code",
   "execution_count": 2,
   "metadata": {},
   "outputs": [],
   "source": [
    "start = 101\n",
    "end = 1023\n",
    "length = end - start + 1\n",
    "numbers = np.zeros([length, 10])\n",
    "for i in range(0, length):\n",
    "    number = '{:010b}'.format(i + start)\n",
    "    number = np.array(list(number))\n",
    "    numbers[i] = number"
   ]
  },
  {
   "cell_type": "code",
   "execution_count": 63,
   "metadata": {},
   "outputs": [
    {
     "data": {
      "text/plain": [
       "(923, 10)"
      ]
     },
     "execution_count": 63,
     "metadata": {},
     "output_type": "execute_result"
    }
   ],
   "source": [
    "numbers.shape"
   ]
  },
  {
   "cell_type": "code",
   "execution_count": 64,
   "metadata": {},
   "outputs": [
    {
     "data": {
      "text/plain": [
       "array([0., 0., 0., 1., 1., 0., 0., 1., 1., 1.])"
      ]
     },
     "execution_count": 64,
     "metadata": {},
     "output_type": "execute_result"
    }
   ],
   "source": [
    "numbers[2]"
   ]
  },
  {
   "cell_type": "code",
   "execution_count": 67,
   "metadata": {},
   "outputs": [
    {
     "data": {
      "text/plain": [
       "array([1., 1., 1., 1., 1., 1., 1., 1., 1., 0.])"
      ]
     },
     "execution_count": 67,
     "metadata": {},
     "output_type": "execute_result"
    }
   ],
   "source": [
    "numbers[921]"
   ]
  },
  {
   "cell_type": "code",
   "execution_count": 3,
   "metadata": {},
   "outputs": [],
   "source": [
    "labels = np.zeros([length])\n",
    "for i in range(0, length):\n",
    "    number = i + start\n",
    "    if number%15 == 0:\n",
    "        labels[i] = 3\n",
    "    elif number%3 == 0:\n",
    "        labels[i] = 1\n",
    "    elif number%5 == 0:\n",
    "        labels[i] = 2\n",
    "    else:\n",
    "        labels[i] ==0"
   ]
  },
  {
   "cell_type": "code",
   "execution_count": 71,
   "metadata": {},
   "outputs": [
    {
     "data": {
      "text/plain": [
       "1.0"
      ]
     },
     "execution_count": 71,
     "metadata": {},
     "output_type": "execute_result"
    }
   ],
   "source": [
    "labels[922]"
   ]
  },
  {
   "cell_type": "code",
   "execution_count": 5,
   "metadata": {},
   "outputs": [],
   "source": [
    "from sklearn.model_selection import train_test_split"
   ]
  },
  {
   "cell_type": "code",
   "execution_count": 6,
   "metadata": {},
   "outputs": [],
   "source": [
    "X_train, X_test, y_train, y_test = train_test_split(numbers, labels, test_size=0.20, random_state=102)"
   ]
  },
  {
   "cell_type": "code",
   "execution_count": 7,
   "metadata": {},
   "outputs": [],
   "source": [
    "from tensorflow.keras.models import Sequential\n",
    "from tensorflow.keras.layers import Dense, Dropout, Activation, Conv2D, MaxPooling2D, Flatten\n",
    "from tensorflow.keras.optimizers import SGD, Adam, Adagrad\n",
    "from tensorflow.keras.utils import to_categorical"
   ]
  },
  {
   "cell_type": "code",
   "execution_count": 8,
   "metadata": {},
   "outputs": [],
   "source": [
    "y_train_cate = to_categorical(y_train, 4)"
   ]
  },
  {
   "cell_type": "code",
   "execution_count": 8,
   "metadata": {},
   "outputs": [
    {
     "data": {
      "text/plain": [
       "0.0"
      ]
     },
     "execution_count": 8,
     "metadata": {},
     "output_type": "execute_result"
    }
   ],
   "source": [
    "y_test[1]"
   ]
  },
  {
   "cell_type": "code",
   "execution_count": 93,
   "metadata": {},
   "outputs": [
    {
     "data": {
      "text/plain": [
       "array([[1., 0., 0., 0.],\n",
       "       [0., 1., 0., 0.],\n",
       "       [1., 0., 0., 0.],\n",
       "       [1., 0., 0., 0.]], dtype=float32)"
      ]
     },
     "execution_count": 93,
     "metadata": {},
     "output_type": "execute_result"
    }
   ],
   "source": [
    "y_test[3]"
   ]
  },
  {
   "cell_type": "code",
   "execution_count": 9,
   "metadata": {},
   "outputs": [],
   "source": [
    "model = Sequential()\n",
    "model.add(Dense(input_dim = 10, units = 1000, activation = 'relu'))\n",
    "#model.add(Dropout(0.3))\n",
    "model.add(Dense(units=1000, activation='relu'))\n",
    "#model.add(Dropout(0.3))\n",
    "model.add(Dense(units=4, activation='softmax'))\n",
    "model.compile(loss='categorical_crossentropy', optimizer = 'adam', metrics=['acc'])"
   ]
  },
  {
   "cell_type": "code",
   "execution_count": 10,
   "metadata": {},
   "outputs": [
    {
     "name": "stdout",
     "output_type": "stream",
     "text": [
      "Train on 738 samples\n",
      "Epoch 1/100\n",
      "738/738 [==============================] - 1s 1ms/sample - loss: 1.2097 - acc: 0.5068\n",
      "Epoch 2/100\n",
      "738/738 [==============================] - 0s 336us/sample - loss: 1.1737 - acc: 0.5285\n",
      "Epoch 3/100\n",
      "738/738 [==============================] - 0s 324us/sample - loss: 1.1502 - acc: 0.5285\n",
      "Epoch 4/100\n",
      "738/738 [==============================] - 0s 316us/sample - loss: 1.1314 - acc: 0.5257\n",
      "Epoch 5/100\n",
      "738/738 [==============================] - 0s 324us/sample - loss: 1.0987 - acc: 0.5271\n",
      "Epoch 6/100\n",
      "738/738 [==============================] - 0s 327us/sample - loss: 1.0333 - acc: 0.5244\n",
      "Epoch 7/100\n",
      "738/738 [==============================] - 0s 325us/sample - loss: 0.9513 - acc: 0.5664\n",
      "Epoch 8/100\n",
      "738/738 [==============================] - 0s 333us/sample - loss: 0.8256 - acc: 0.6477\n",
      "Epoch 9/100\n",
      "738/738 [==============================] - 0s 323us/sample - loss: 0.6190 - acc: 0.7818\n",
      "Epoch 10/100\n",
      "738/738 [==============================] - 0s 326us/sample - loss: 0.4242 - acc: 0.8780\n",
      "Epoch 11/100\n",
      "738/738 [==============================] - 0s 320us/sample - loss: 0.3091 - acc: 0.9119\n",
      "Epoch 12/100\n",
      "738/738 [==============================] - 0s 327us/sample - loss: 0.1936 - acc: 0.9539\n",
      "Epoch 13/100\n",
      "738/738 [==============================] - 0s 324us/sample - loss: 0.1540 - acc: 0.9566\n",
      "Epoch 14/100\n",
      "738/738 [==============================] - 0s 320us/sample - loss: 0.1198 - acc: 0.9634\n",
      "Epoch 15/100\n",
      "738/738 [==============================] - 0s 351us/sample - loss: 0.1031 - acc: 0.9715\n",
      "Epoch 16/100\n",
      "738/738 [==============================] - 0s 338us/sample - loss: 0.0963 - acc: 0.9715\n",
      "Epoch 17/100\n",
      "738/738 [==============================] - 0s 311us/sample - loss: 0.0888 - acc: 0.9729\n",
      "Epoch 18/100\n",
      "738/738 [==============================] - 0s 320us/sample - loss: 0.0592 - acc: 0.9851\n",
      "Epoch 19/100\n",
      "738/738 [==============================] - 0s 327us/sample - loss: 0.0591 - acc: 0.9810\n",
      "Epoch 20/100\n",
      "738/738 [==============================] - 0s 329us/sample - loss: 0.0456 - acc: 0.9851\n",
      "Epoch 21/100\n",
      "738/738 [==============================] - 0s 332us/sample - loss: 0.0335 - acc: 0.9905\n",
      "Epoch 22/100\n",
      "738/738 [==============================] - 0s 322us/sample - loss: 0.1053 - acc: 0.9621\n",
      "Epoch 23/100\n",
      "738/738 [==============================] - 0s 325us/sample - loss: 0.0651 - acc: 0.9851\n",
      "Epoch 24/100\n",
      "738/738 [==============================] - 0s 326us/sample - loss: 0.0285 - acc: 0.9973\n",
      "Epoch 25/100\n",
      "738/738 [==============================] - 0s 328us/sample - loss: 0.0234 - acc: 0.9959\n",
      "Epoch 26/100\n",
      "738/738 [==============================] - 0s 326us/sample - loss: 0.0204 - acc: 0.9973\n",
      "Epoch 27/100\n",
      "738/738 [==============================] - 0s 327us/sample - loss: 0.0105 - acc: 0.9986\n",
      "Epoch 28/100\n",
      "738/738 [==============================] - 0s 336us/sample - loss: 0.0067 - acc: 1.0000\n",
      "Epoch 29/100\n",
      "738/738 [==============================] - 0s 338us/sample - loss: 0.0049 - acc: 1.0000\n",
      "Epoch 30/100\n",
      "738/738 [==============================] - 0s 344us/sample - loss: 0.0035 - acc: 1.0000\n",
      "Epoch 31/100\n",
      "738/738 [==============================] - 0s 349us/sample - loss: 0.0029 - acc: 1.0000\n",
      "Epoch 32/100\n",
      "738/738 [==============================] - 0s 322us/sample - loss: 0.0026 - acc: 1.0000\n",
      "Epoch 33/100\n",
      "738/738 [==============================] - 0s 384us/sample - loss: 0.0022 - acc: 1.0000\n",
      "Epoch 34/100\n",
      "738/738 [==============================] - 0s 357us/sample - loss: 0.0021 - acc: 1.0000\n",
      "Epoch 35/100\n",
      "738/738 [==============================] - 0s 317us/sample - loss: 0.0018 - acc: 1.0000\n",
      "Epoch 36/100\n",
      "738/738 [==============================] - 0s 346us/sample - loss: 0.0017 - acc: 1.0000\n",
      "Epoch 37/100\n",
      "738/738 [==============================] - 0s 328us/sample - loss: 0.0017 - acc: 1.0000\n",
      "Epoch 38/100\n",
      "738/738 [==============================] - 0s 335us/sample - loss: 0.0015 - acc: 1.0000\n",
      "Epoch 39/100\n",
      "738/738 [==============================] - 0s 323us/sample - loss: 0.0013 - acc: 1.0000\n",
      "Epoch 40/100\n",
      "738/738 [==============================] - 0s 314us/sample - loss: 0.0012 - acc: 1.0000\n",
      "Epoch 41/100\n",
      "738/738 [==============================] - 0s 332us/sample - loss: 0.0011 - acc: 1.0000\n",
      "Epoch 42/100\n",
      "738/738 [==============================] - 0s 318us/sample - loss: 0.0010 - acc: 1.0000\n",
      "Epoch 43/100\n",
      "738/738 [==============================] - 0s 327us/sample - loss: 9.5093e-04 - acc: 1.0000\n",
      "Epoch 44/100\n",
      "738/738 [==============================] - 0s 331us/sample - loss: 8.4737e-04 - acc: 1.0000\n",
      "Epoch 45/100\n",
      "738/738 [==============================] - 0s 325us/sample - loss: 8.3626e-04 - acc: 1.0000\n",
      "Epoch 46/100\n",
      "738/738 [==============================] - 0s 322us/sample - loss: 7.6050e-04 - acc: 1.0000\n",
      "Epoch 47/100\n",
      "738/738 [==============================] - 0s 326us/sample - loss: 7.1455e-04 - acc: 1.0000\n",
      "Epoch 48/100\n",
      "738/738 [==============================] - 0s 331us/sample - loss: 6.5621e-04 - acc: 1.0000\n",
      "Epoch 49/100\n",
      "738/738 [==============================] - 0s 323us/sample - loss: 6.2326e-04 - acc: 1.0000\n",
      "Epoch 50/100\n",
      "738/738 [==============================] - 0s 323us/sample - loss: 5.8948e-04 - acc: 1.0000\n",
      "Epoch 51/100\n",
      "738/738 [==============================] - 0s 329us/sample - loss: 5.4124e-04 - acc: 1.0000\n",
      "Epoch 52/100\n",
      "738/738 [==============================] - 0s 322us/sample - loss: 5.1029e-04 - acc: 1.0000\n",
      "Epoch 53/100\n",
      "738/738 [==============================] - 0s 326us/sample - loss: 4.8406e-04 - acc: 1.0000\n",
      "Epoch 54/100\n",
      "738/738 [==============================] - 0s 347us/sample - loss: 4.5419e-04 - acc: 1.0000\n",
      "Epoch 55/100\n",
      "738/738 [==============================] - 0s 316us/sample - loss: 4.3172e-04 - acc: 1.0000\n",
      "Epoch 56/100\n",
      "738/738 [==============================] - 0s 323us/sample - loss: 4.0511e-04 - acc: 1.0000\n",
      "Epoch 57/100\n",
      "738/738 [==============================] - 0s 331us/sample - loss: 3.8126e-04 - acc: 1.0000\n",
      "Epoch 58/100\n",
      "738/738 [==============================] - 0s 334us/sample - loss: 3.5133e-04 - acc: 1.0000\n",
      "Epoch 59/100\n",
      "738/738 [==============================] - 0s 319us/sample - loss: 3.3351e-04 - acc: 1.0000\n",
      "Epoch 60/100\n",
      "738/738 [==============================] - 0s 329us/sample - loss: 3.1242e-04 - acc: 1.0000\n",
      "Epoch 61/100\n",
      "738/738 [==============================] - 0s 326us/sample - loss: 3.0213e-04 - acc: 1.0000\n",
      "Epoch 62/100\n",
      "738/738 [==============================] - 0s 329us/sample - loss: 2.8280e-04 - acc: 1.0000\n",
      "Epoch 63/100\n",
      "738/738 [==============================] - 0s 337us/sample - loss: 2.7235e-04 - acc: 1.0000\n",
      "Epoch 64/100\n",
      "738/738 [==============================] - 0s 327us/sample - loss: 2.5158e-04 - acc: 1.0000\n",
      "Epoch 65/100\n",
      "738/738 [==============================] - 0s 324us/sample - loss: 2.3696e-04 - acc: 1.0000\n",
      "Epoch 66/100\n",
      "738/738 [==============================] - 0s 321us/sample - loss: 2.2370e-04 - acc: 1.0000\n",
      "Epoch 67/100\n",
      "738/738 [==============================] - 0s 323us/sample - loss: 2.1252e-04 - acc: 1.0000\n",
      "Epoch 68/100\n",
      "738/738 [==============================] - 0s 321us/sample - loss: 1.9646e-04 - acc: 1.0000\n",
      "Epoch 69/100\n",
      "738/738 [==============================] - 0s 323us/sample - loss: 1.8753e-04 - acc: 1.0000\n",
      "Epoch 70/100\n",
      "738/738 [==============================] - 0s 327us/sample - loss: 1.8380e-04 - acc: 1.0000\n",
      "Epoch 71/100\n",
      "738/738 [==============================] - 0s 323us/sample - loss: 1.6860e-04 - acc: 1.0000\n",
      "Epoch 72/100\n",
      "738/738 [==============================] - 0s 319us/sample - loss: 1.5545e-04 - acc: 1.0000\n",
      "Epoch 73/100\n",
      "738/738 [==============================] - 0s 327us/sample - loss: 1.5223e-04 - acc: 1.0000\n",
      "Epoch 74/100\n",
      "738/738 [==============================] - 0s 314us/sample - loss: 1.4314e-04 - acc: 1.0000\n",
      "Epoch 75/100\n",
      "738/738 [==============================] - 0s 318us/sample - loss: 1.3561e-04 - acc: 1.0000\n",
      "Epoch 76/100\n",
      "738/738 [==============================] - 0s 323us/sample - loss: 1.2698e-04 - acc: 1.0000\n",
      "Epoch 77/100\n",
      "738/738 [==============================] - 0s 330us/sample - loss: 1.2118e-04 - acc: 1.0000\n",
      "Epoch 78/100\n",
      "738/738 [==============================] - 0s 321us/sample - loss: 1.1413e-04 - acc: 1.0000\n",
      "Epoch 79/100\n",
      "738/738 [==============================] - 0s 326us/sample - loss: 1.0857e-04 - acc: 1.0000\n",
      "Epoch 80/100\n",
      "738/738 [==============================] - 0s 322us/sample - loss: 1.0419e-04 - acc: 1.0000\n",
      "Epoch 81/100\n",
      "738/738 [==============================] - 0s 328us/sample - loss: 9.8534e-05 - acc: 1.0000\n",
      "Epoch 82/100\n",
      "738/738 [==============================] - 0s 330us/sample - loss: 9.4028e-05 - acc: 1.0000\n",
      "Epoch 83/100\n",
      "738/738 [==============================] - 0s 333us/sample - loss: 8.9966e-05 - acc: 1.0000\n",
      "Epoch 84/100\n",
      "738/738 [==============================] - 0s 330us/sample - loss: 8.3876e-05 - acc: 1.0000\n",
      "Epoch 85/100\n",
      "738/738 [==============================] - 0s 333us/sample - loss: 7.9976e-05 - acc: 1.0000\n",
      "Epoch 86/100\n",
      "738/738 [==============================] - 0s 338us/sample - loss: 7.6209e-05 - acc: 1.0000\n",
      "Epoch 87/100\n",
      "738/738 [==============================] - 0s 335us/sample - loss: 7.2455e-05 - acc: 1.0000\n",
      "Epoch 88/100\n",
      "738/738 [==============================] - 0s 329us/sample - loss: 6.9080e-05 - acc: 1.0000\n",
      "Epoch 89/100\n",
      "738/738 [==============================] - 0s 335us/sample - loss: 6.5632e-05 - acc: 1.0000\n",
      "Epoch 90/100\n",
      "738/738 [==============================] - 0s 334us/sample - loss: 6.2418e-05 - acc: 1.0000\n",
      "Epoch 91/100\n",
      "738/738 [==============================] - 0s 335us/sample - loss: 6.0757e-05 - acc: 1.0000\n",
      "Epoch 92/100\n",
      "738/738 [==============================] - 0s 338us/sample - loss: 5.6778e-05 - acc: 1.0000\n",
      "Epoch 93/100\n",
      "738/738 [==============================] - 0s 332us/sample - loss: 5.3752e-05 - acc: 1.0000\n",
      "Epoch 94/100\n",
      "738/738 [==============================] - 0s 328us/sample - loss: 5.1019e-05 - acc: 1.0000\n",
      "Epoch 95/100\n",
      "738/738 [==============================] - 0s 324us/sample - loss: 4.8207e-05 - acc: 1.0000\n",
      "Epoch 96/100\n",
      "738/738 [==============================] - 0s 326us/sample - loss: 4.6263e-05 - acc: 1.0000\n",
      "Epoch 97/100\n",
      "738/738 [==============================] - 0s 332us/sample - loss: 4.5320e-05 - acc: 1.0000\n",
      "Epoch 98/100\n",
      "738/738 [==============================] - 0s 328us/sample - loss: 4.1993e-05 - acc: 1.0000\n",
      "Epoch 99/100\n",
      "738/738 [==============================] - 0s 329us/sample - loss: 4.0077e-05 - acc: 1.0000\n",
      "Epoch 100/100\n",
      "738/738 [==============================] - 0s 336us/sample - loss: 3.8179e-05 - acc: 1.0000\n"
     ]
    },
    {
     "data": {
      "text/plain": [
       "<tensorflow.python.keras.callbacks.History at 0x2579c6e3308>"
      ]
     },
     "execution_count": 10,
     "metadata": {},
     "output_type": "execute_result"
    }
   ],
   "source": [
    "model.fit(X_train, y_train_cate, batch_size=10, epochs=100)\n",
    "\n",
    "#model.fit(X_train, y_train, batch_size=20, epochs=50)"
   ]
  },
  {
   "cell_type": "code",
   "execution_count": 11,
   "metadata": {},
   "outputs": [
    {
     "data": {
      "text/plain": [
       "array([[99,  6,  2,  1],\n",
       "       [ 4, 43,  3,  0],\n",
       "       [ 0,  0, 21,  0],\n",
       "       [ 0,  0,  0,  6]], dtype=int64)"
      ]
     },
     "execution_count": 11,
     "metadata": {},
     "output_type": "execute_result"
    }
   ],
   "source": [
    "from sklearn.metrics import confusion_matrix, classification_report\n",
    "predicted = model.predict_classes(X_test)\n",
    "confusion_matrix(predicted, y_test)"
   ]
  },
  {
   "cell_type": "code",
   "execution_count": 12,
   "metadata": {},
   "outputs": [
    {
     "name": "stdout",
     "output_type": "stream",
     "text": [
      "              precision    recall  f1-score   support\n",
      "\n",
      "           0       0.96      0.92      0.94       108\n",
      "           1       0.88      0.86      0.87        50\n",
      "           2       0.81      1.00      0.89        21\n",
      "           3       0.86      1.00      0.92         6\n",
      "\n",
      "    accuracy                           0.91       185\n",
      "   macro avg       0.88      0.94      0.91       185\n",
      "weighted avg       0.92      0.91      0.91       185\n",
      "\n"
     ]
    }
   ],
   "source": [
    "print(classification_report(predicted, y_test))"
   ]
  },
  {
   "cell_type": "code",
   "execution_count": 13,
   "metadata": {},
   "outputs": [
    {
     "name": "stdout",
     "output_type": "stream",
     "text": [
      "[1. 1. 0. 0. 1. 0. 1. 1. 0. 0.]\n"
     ]
    }
   ],
   "source": [
    "print(X_test[1])"
   ]
  },
  {
   "cell_type": "code",
   "execution_count": 14,
   "metadata": {},
   "outputs": [
    {
     "name": "stdout",
     "output_type": "stream",
     "text": [
      "['Buzz' '1' '2' 'Fizz' '4' '5' 'Fizz' '7' '8' 'Fizz' 'Buzz' '11' 'Fizz'\n",
      " '13' '14' 'FizzBuzz' '16' '17' 'Fizz' '19' 'Buzz' '21' '22' '23' 'Fizz'\n",
      " '25' '26' 'Fizz' '28' '29' 'FizzBuzz' '31' '32' 'Fizz' '34' 'Buzz' 'Fizz'\n",
      " '37' '38' 'Fizz' 'Buzz' '41' 'Fizz' '43' '44' 'FizzBuzz' '46' '47' 'Fizz'\n",
      " '49' 'Buzz' 'Fizz' '52' '53' 'Fizz' 'Buzz' '56' 'Fizz' '58' '59'\n",
      " 'FizzBuzz' '61' '62' 'Fizz' '64' 'Buzz' 'Fizz' '67' '68' 'Fizz' 'Buzz'\n",
      " '71' 'Fizz' '73' '74' 'FizzBuzz' '76' '77' 'Fizz' '79' '80' '81' '82'\n",
      " '83' 'Fizz' 'Buzz' '86' 'Fizz' '88' '89' 'FizzBuzz' '91' '92' 'Fizz' '94'\n",
      " 'Buzz' 'Fizz' '97' '98' 'Fizz']\n"
     ]
    }
   ],
   "source": [
    "start = 0\n",
    "end = 100\n",
    "length = end - start + 1\n",
    "\n",
    "ans = np.zeros([length, 10])\n",
    "for i in range(0, length):\n",
    "    number = '{:010b}'.format(i + start)\n",
    "    number = np.array(list(number))\n",
    "    ans[i] = number\n",
    "\n",
    "answer = model.predict_classes(ans)\n",
    "output = []\n",
    "for i in range(100):\n",
    "    if answer[i] == 3:\n",
    "        output = np.append(output, 'FizzBuzz')\n",
    "    elif answer[i] == 1:\n",
    "        output = np.append(output, 'Fizz')\n",
    "    elif answer[i] == 2:\n",
    "        output = np.append(output, 'Buzz')\n",
    "    else:\n",
    "        output = np.append(output, str(i))\n",
    "print(output)"
   ]
  },
  {
   "cell_type": "code",
   "execution_count": 15,
   "metadata": {},
   "outputs": [],
   "source": [
    "labels = np.zeros([length])\n",
    "for i in range(0, length):\n",
    "    number = i + start\n",
    "    if number%15 == 0:\n",
    "        labels[i] = 3\n",
    "    elif number%3 == 0:\n",
    "        labels[i] = 1\n",
    "    elif number%5 == 0:\n",
    "        labels[i] = 2\n",
    "    else:\n",
    "        labels[i] ==0"
   ]
  },
  {
   "cell_type": "code",
   "execution_count": 16,
   "metadata": {},
   "outputs": [
    {
     "data": {
      "text/plain": [
       "array([[53,  2,  3,  0],\n",
       "       [ 0, 25,  0,  0],\n",
       "       [ 0,  0, 11,  1],\n",
       "       [ 0,  0,  0,  6]], dtype=int64)"
      ]
     },
     "execution_count": 16,
     "metadata": {},
     "output_type": "execute_result"
    }
   ],
   "source": [
    "confusion_matrix(answer, labels)"
   ]
  },
  {
   "cell_type": "markdown",
   "metadata": {},
   "source": [
    "### Now lets compare NN model with some other machine learning models.\n",
    "We will try KNN, decision tree, randomForest and GBDT"
   ]
  },
  {
   "cell_type": "code",
   "execution_count": 153,
   "metadata": {},
   "outputs": [],
   "source": [
    "from sklearn.svm import SVC\n",
    "from sklearn.preprocessing import StandardScaler"
   ]
  },
  {
   "cell_type": "code",
   "execution_count": 167,
   "metadata": {},
   "outputs": [],
   "source": [
    "scaler = StandardScaler()\n",
    "X_train_std = scaler.fit_transform(X_train)\n",
    "X_test_std = scaler.transform(X_test)"
   ]
  },
  {
   "cell_type": "code",
   "execution_count": 177,
   "metadata": {},
   "outputs": [],
   "source": [
    "svc = SVC(gamma='auto', C=100,  class_weight='balanced',kernel = 'sigmoid')"
   ]
  },
  {
   "cell_type": "code",
   "execution_count": 178,
   "metadata": {},
   "outputs": [
    {
     "data": {
      "text/plain": [
       "SVC(C=100, break_ties=False, cache_size=200, class_weight='balanced', coef0=0.0,\n",
       "    decision_function_shape='ovr', degree=3, gamma='auto', kernel='sigmoid',\n",
       "    max_iter=-1, probability=False, random_state=None, shrinking=True,\n",
       "    tol=0.001, verbose=False)"
      ]
     },
     "execution_count": 178,
     "metadata": {},
     "output_type": "execute_result"
    }
   ],
   "source": [
    "svc.fit(X_train, y_train)"
   ]
  },
  {
   "cell_type": "code",
   "execution_count": 179,
   "metadata": {},
   "outputs": [
    {
     "name": "stdout",
     "output_type": "stream",
     "text": [
      "[[41 24  7  0]\n",
      " [28 13  4  2]\n",
      " [13  4  6  1]\n",
      " [21  8  9  4]]\n",
      "              precision    recall  f1-score   support\n",
      "\n",
      "         0.0       0.40      0.57      0.47        72\n",
      "         1.0       0.27      0.28      0.27        47\n",
      "         2.0       0.23      0.25      0.24        24\n",
      "         3.0       0.57      0.10      0.16        42\n",
      "\n",
      "    accuracy                           0.35       185\n",
      "   macro avg       0.37      0.30      0.29       185\n",
      "weighted avg       0.38      0.35      0.32       185\n",
      "\n"
     ]
    }
   ],
   "source": [
    "predicted_svc = svc.predict(X_test)\n",
    "print(confusion_matrix(predicted_svc, y_test))\n",
    "print(classification_report(predicted_svc, y_test))"
   ]
  },
  {
   "cell_type": "code",
   "execution_count": 45,
   "metadata": {},
   "outputs": [
    {
     "data": {
      "text/plain": [
       "array([1., 2., 1., 1., 0., 1., 0., 0., 1., 0., 3., 0., 0., 2., 2., 1., 0.,\n",
       "       0., 0., 2., 0., 0., 0., 0., 0., 0., 0., 0., 0., 0., 0., 1., 1., 0.,\n",
       "       3., 0., 0., 0., 1., 0., 2., 0., 0., 1., 0., 0., 2., 2., 1., 0., 2.,\n",
       "       0., 2., 1., 1., 0., 0., 3., 2., 0., 0., 2., 3., 3., 0., 0., 1., 3.,\n",
       "       1., 1., 0., 3., 0., 1., 0., 0., 0., 0., 0., 0., 1., 0., 0., 0., 0.,\n",
       "       0., 0., 1., 1., 1., 3., 0., 0., 0., 3., 2., 3., 1., 3., 0., 0., 1.,\n",
       "       2., 1., 0., 1., 1., 0., 0., 0., 0., 3., 3., 0., 1., 1., 0., 0., 1.,\n",
       "       2., 2., 1., 1., 1., 0., 2., 1., 0., 0., 1., 2., 0., 1., 2., 0., 0.,\n",
       "       0., 0., 0., 0., 0., 0., 3., 0., 2., 1., 1., 0., 0., 1., 1., 0., 1.,\n",
       "       0., 0., 1., 1., 1., 2., 1., 3., 0., 0., 0., 0., 1., 2., 1., 0., 1.,\n",
       "       3., 0., 0., 1., 2., 0., 0., 1., 1., 3., 0., 0., 2., 0., 1., 0., 1.,\n",
       "       0., 0., 1., 1., 0., 0., 2., 2., 0., 1., 0., 1., 2., 1., 0., 1., 0.,\n",
       "       0., 1., 2., 3., 0., 0., 0., 0., 1., 0., 3., 0., 1., 3., 0., 0., 1.,\n",
       "       2., 2., 0., 0., 0., 1., 2., 0., 3., 1., 1., 3., 3., 0., 0., 0., 0.,\n",
       "       0., 0., 0., 1., 2., 0., 1., 0., 0., 2., 0., 0., 0., 2., 0., 0., 1.,\n",
       "       0., 0., 2., 0., 1., 0., 0., 3., 0., 2., 1., 1., 0., 2., 0., 1., 3.,\n",
       "       0., 2., 0., 1., 0., 0., 2., 0., 2., 0., 2., 0., 0., 0., 3., 0., 0.,\n",
       "       0., 0., 0., 1., 3., 1., 2., 1., 0., 0., 0., 3., 0., 0., 3., 0., 0.,\n",
       "       0., 1., 0., 0., 1., 0., 0., 0., 3., 0., 0., 0., 0., 0., 0., 1., 0.,\n",
       "       1., 3., 0., 0., 2., 0., 0., 0., 2., 3., 0., 0., 0., 0., 0., 0., 0.,\n",
       "       0., 0., 1., 0., 0., 2., 0., 0., 1., 0., 0., 0., 1., 1., 1., 1., 1.,\n",
       "       1., 0., 1., 0., 2., 0., 0., 2., 0., 0., 1., 1., 0., 1., 2., 0., 0.,\n",
       "       1., 0., 1., 1., 0., 1., 1., 0., 1., 0., 1., 1., 1., 1., 0., 1., 2.,\n",
       "       1., 1., 2., 0., 0., 0., 0., 1., 0., 1., 0., 0., 0., 1., 0., 1., 0.,\n",
       "       2., 0., 2., 0., 0., 0., 0., 0., 1., 0., 0., 0., 1., 1., 2., 2., 0.,\n",
       "       0., 1., 0., 1., 0., 0., 0., 3., 0., 0., 0., 1., 0., 2., 1., 1., 0.,\n",
       "       0., 0., 0., 0., 1., 0., 0., 0., 1., 0., 0., 0., 1., 0., 1., 2., 0.,\n",
       "       2., 0., 0., 0., 0., 0., 2., 0., 0., 0., 3., 0., 1., 0., 2., 3., 0.,\n",
       "       0., 0., 1., 2., 0., 0., 0., 2., 0., 3., 0., 0., 1., 3., 0., 0., 0.,\n",
       "       0., 1., 0., 1., 0., 0., 3., 0., 3., 2., 0., 0., 0., 2., 0., 2., 1.,\n",
       "       0., 2., 3., 1., 1., 0., 3., 0., 0., 1., 2., 1., 2., 1., 1., 0., 0.,\n",
       "       0., 1., 0., 0., 3., 0., 0., 3., 0., 0., 1., 0., 1., 0., 0., 2., 3.,\n",
       "       0., 1., 0., 0., 0., 0., 2., 2., 0., 2., 1., 2., 1., 1., 1., 0., 1.,\n",
       "       0., 0., 0., 0., 2., 0., 1., 2., 0., 1., 1., 1., 1., 1., 1., 0., 0.,\n",
       "       0., 0., 0., 1., 0., 0., 1., 1., 0., 0., 0., 0., 0., 1., 2., 1., 0.,\n",
       "       2., 1., 1., 2., 0., 2., 3., 1., 0., 0., 0., 0., 0., 3., 1., 1., 1.,\n",
       "       0., 1., 1., 1., 0., 0., 0., 0., 0., 0., 1., 0., 0., 1., 0., 0., 0.,\n",
       "       0., 2., 0., 1., 0., 3., 1., 2., 0., 0., 0., 0., 0., 3., 1., 2., 1.,\n",
       "       0., 0., 2., 0., 0., 1., 0., 0., 1., 0., 0., 1., 0., 1., 1., 1., 0.,\n",
       "       3., 0., 0., 2., 3., 0., 2., 2., 2., 0., 0., 1., 1., 1., 0., 0., 0.,\n",
       "       3., 0., 2., 0., 0., 1., 0., 0., 0., 2., 0., 1., 2., 0., 0., 2., 1.,\n",
       "       0., 1., 1., 1., 3., 2., 0., 2., 2., 1., 1., 0., 1., 1., 0., 0., 1.,\n",
       "       1., 3., 1., 1., 0., 0., 3., 1., 0., 2., 2., 1., 0., 3., 1., 1., 0.,\n",
       "       2., 2., 0., 0., 0., 0., 1.])"
      ]
     },
     "execution_count": 45,
     "metadata": {},
     "output_type": "execute_result"
    }
   ],
   "source": [
    "y_train"
   ]
  },
  {
   "cell_type": "code",
   "execution_count": 72,
   "metadata": {},
   "outputs": [
    {
     "data": {
      "text/plain": [
       "(array([0., 1., 2., 3.]), array([390, 197,  96,  55], dtype=int64))"
      ]
     },
     "execution_count": 72,
     "metadata": {},
     "output_type": "execute_result"
    }
   ],
   "source": [
    "np.unique(y_train, return_counts=True) "
   ]
  },
  {
   "cell_type": "code",
   "execution_count": null,
   "metadata": {},
   "outputs": [],
   "source": []
  }
 ],
 "metadata": {
  "kernelspec": {
   "display_name": "Python 3",
   "language": "python",
   "name": "python3"
  },
  "language_info": {
   "codemirror_mode": {
    "name": "ipython",
    "version": 3
   },
   "file_extension": ".py",
   "mimetype": "text/x-python",
   "name": "python",
   "nbconvert_exporter": "python",
   "pygments_lexer": "ipython3",
   "version": "3.7.6"
  }
 },
 "nbformat": 4,
 "nbformat_minor": 4
}
