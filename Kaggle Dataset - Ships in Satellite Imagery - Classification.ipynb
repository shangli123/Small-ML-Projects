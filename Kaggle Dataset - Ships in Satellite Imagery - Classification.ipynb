{
 "cells": [
  {
   "cell_type": "code",
   "execution_count": 1,
   "metadata": {},
   "outputs": [],
   "source": [
    "from PIL import Image\n",
    "import numpy as np\n",
    "import pandas as pd"
   ]
  },
  {
   "cell_type": "code",
   "execution_count": 4,
   "metadata": {},
   "outputs": [],
   "source": [
    "import os"
   ]
  },
  {
   "cell_type": "code",
   "execution_count": 2,
   "metadata": {},
   "outputs": [],
   "source": [
    "img_folder = \"./shipsnet\""
   ]
  },
  {
   "cell_type": "code",
   "execution_count": 3,
   "metadata": {},
   "outputs": [],
   "source": []
  },
  {
   "cell_type": "code",
   "execution_count": 5,
   "metadata": {},
   "outputs": [
    {
     "data": {
      "text/html": [
       "<div>\n",
       "<style scoped>\n",
       "    .dataframe tbody tr th:only-of-type {\n",
       "        vertical-align: middle;\n",
       "    }\n",
       "\n",
       "    .dataframe tbody tr th {\n",
       "        vertical-align: top;\n",
       "    }\n",
       "\n",
       "    .dataframe thead th {\n",
       "        text-align: right;\n",
       "    }\n",
       "</style>\n",
       "<table border=\"1\" class=\"dataframe\">\n",
       "  <thead>\n",
       "    <tr style=\"text-align: right;\">\n",
       "      <th></th>\n",
       "      <th>X</th>\n",
       "      <th>y</th>\n",
       "    </tr>\n",
       "  </thead>\n",
       "  <tbody>\n",
       "  </tbody>\n",
       "</table>\n",
       "</div>"
      ],
      "text/plain": [
       "Empty DataFrame\n",
       "Columns: [X, y]\n",
       "Index: []"
      ]
     },
     "execution_count": 5,
     "metadata": {},
     "output_type": "execute_result"
    }
   ],
   "source": []
  },
  {
   "cell_type": "code",
   "execution_count": null,
   "metadata": {},
   "outputs": [],
   "source": []
  },
  {
   "cell_type": "code",
   "execution_count": 6,
   "metadata": {},
   "outputs": [],
   "source": [
    "\n",
    " \n",
    "imlist = os.listdir(img_folder)\n",
    "imlist.sort()\n",
    "size = (len(imlist))\n",
    "counter = 0\n",
    "label = np.zeros([size])\n",
    "pixels = np.zeros([size, 80, 80, 3])\n",
    "for imagename in imlist:   \n",
    "    imurl = os.path.join(img_folder,imagename)\n",
    "    #print(imagename)\n",
    "    im = Image.open(imurl)\n",
    "    rgb_im = im.convert('RGB')\n",
    "    for i in range(80):\n",
    "        for j in range(80):\n",
    "            r, g, b = rgb_im.getpixel((i, j))\n",
    "            pixels[counter, i, j, 0] = r\n",
    "            pixels[counter, i, j, 1] = g\n",
    "            pixels[counter, i, j, 2] = b\n",
    "    label[counter] = float(imagename[0])\n",
    "    counter = counter + 1 "
   ]
  },
  {
   "cell_type": "code",
   "execution_count": 7,
   "metadata": {},
   "outputs": [
    {
     "data": {
      "text/plain": [
       "(4000, 80, 80, 3)"
      ]
     },
     "execution_count": 7,
     "metadata": {},
     "output_type": "execute_result"
    }
   ],
   "source": [
    "pixels.shape"
   ]
  },
  {
   "cell_type": "code",
   "execution_count": 101,
   "metadata": {},
   "outputs": [],
   "source": [
    "np.save(r'D:\\pixels_save.npy',pixels)\n",
    "np.save(r'D:\\label_save.npy',label)"
   ]
  },
  {
   "cell_type": "code",
   "execution_count": 8,
   "metadata": {},
   "outputs": [
    {
     "data": {
      "text/plain": [
       "(4000,)"
      ]
     },
     "execution_count": 8,
     "metadata": {},
     "output_type": "execute_result"
    }
   ],
   "source": [
    "label.shape"
   ]
  },
  {
   "cell_type": "code",
   "execution_count": 61,
   "metadata": {},
   "outputs": [],
   "source": [
    "from sklearn.model_selection import train_test_split"
   ]
  },
  {
   "cell_type": "code",
   "execution_count": 129,
   "metadata": {},
   "outputs": [],
   "source": [
    "X_train, X_test, y_train, y_test = train_test_split(pixels, label, test_size=0.25, random_state=102)"
   ]
  },
  {
   "cell_type": "code",
   "execution_count": null,
   "metadata": {},
   "outputs": [],
   "source": []
  },
  {
   "cell_type": "code",
   "execution_count": null,
   "metadata": {
    "scrolled": true
   },
   "outputs": [],
   "source": []
  },
  {
   "cell_type": "code",
   "execution_count": 130,
   "metadata": {},
   "outputs": [],
   "source": [
    "from tensorflow.keras.models import Sequential\n",
    "from tensorflow.keras.layers import Dense, Dropout, Activation, Conv2D, MaxPooling2D, Flatten\n",
    "from tensorflow.keras.optimizers import SGD, Adam, Adagrad\n",
    "from tensorflow.keras.utils import to_categorical"
   ]
  },
  {
   "cell_type": "code",
   "execution_count": 131,
   "metadata": {},
   "outputs": [],
   "source": [
    "y_train = to_categorical(y_train, 2)\n",
    "#y_test = to_categorical(y_test, 2)\n",
    "X_train = X_train/255\n",
    "X_test = X_test/255"
   ]
  },
  {
   "cell_type": "code",
   "execution_count": 261,
   "metadata": {},
   "outputs": [],
   "source": [
    "model = Sequential()\n",
    "model.add(Conv2D(25, 3, 3, input_shape=(80, 80, 3)))\n",
    "model.add(MaxPooling2D((2,2)))\n",
    "model.add(Conv2D(50,3, 3))\n",
    "model.add(MaxPooling2D((2,2)))\n",
    "model.add(Flatten())\n",
    "model.add(Dense(units=300, activation='relu'))\n",
    "model.add(Dense(units=300, activation='relu'))\n",
    "\n",
    "model.add(Dense(units=2, activation='softmax'))\n",
    "model.compile(loss='categorical_crossentropy', optimizer = 'adam', metrics=['acc'])"
   ]
  },
  {
   "cell_type": "code",
   "execution_count": 111,
   "metadata": {},
   "outputs": [],
   "source": [
    "#"
   ]
  },
  {
   "cell_type": "code",
   "execution_count": 112,
   "metadata": {},
   "outputs": [],
   "source": []
  },
  {
   "cell_type": "code",
   "execution_count": 113,
   "metadata": {},
   "outputs": [],
   "source": []
  },
  {
   "cell_type": "code",
   "execution_count": 114,
   "metadata": {},
   "outputs": [],
   "source": []
  },
  {
   "cell_type": "code",
   "execution_count": 115,
   "metadata": {},
   "outputs": [],
   "source": []
  },
  {
   "cell_type": "code",
   "execution_count": 116,
   "metadata": {},
   "outputs": [],
   "source": []
  },
  {
   "cell_type": "code",
   "execution_count": 117,
   "metadata": {},
   "outputs": [],
   "source": []
  },
  {
   "cell_type": "code",
   "execution_count": 118,
   "metadata": {},
   "outputs": [],
   "source": []
  },
  {
   "cell_type": "code",
   "execution_count": 262,
   "metadata": {},
   "outputs": [
    {
     "name": "stdout",
     "output_type": "stream",
     "text": [
      "Train on 3000 samples\n",
      "Epoch 1/20\n",
      "3000/3000 [==============================] - 1s 403us/sample - loss: 0.4257 - acc: 0.8147\n",
      "Epoch 2/20\n",
      "3000/3000 [==============================] - 1s 283us/sample - loss: 0.2341 - acc: 0.9147\n",
      "Epoch 3/20\n",
      "3000/3000 [==============================] - 1s 285us/sample - loss: 0.1237 - acc: 0.9527\n",
      "Epoch 4/20\n",
      "3000/3000 [==============================] - 1s 284us/sample - loss: 0.0827 - acc: 0.9707\n",
      "Epoch 5/20\n",
      "3000/3000 [==============================] - 1s 285us/sample - loss: 0.0710 - acc: 0.9717\n",
      "Epoch 6/20\n",
      "3000/3000 [==============================] - 1s 285us/sample - loss: 0.0620 - acc: 0.9753\n",
      "Epoch 7/20\n",
      "3000/3000 [==============================] - 1s 288us/sample - loss: 0.0376 - acc: 0.9873\n",
      "Epoch 8/20\n",
      "3000/3000 [==============================] - 1s 287us/sample - loss: 0.0322 - acc: 0.9877\n",
      "Epoch 9/20\n",
      "3000/3000 [==============================] - 1s 286us/sample - loss: 0.0266 - acc: 0.9907\n",
      "Epoch 10/20\n",
      "3000/3000 [==============================] - 1s 298us/sample - loss: 0.0200 - acc: 0.9930\n",
      "Epoch 11/20\n",
      "3000/3000 [==============================] - 1s 288us/sample - loss: 0.0172 - acc: 0.9947\n",
      "Epoch 12/20\n",
      "3000/3000 [==============================] - 1s 289us/sample - loss: 0.0396 - acc: 0.9823\n",
      "Epoch 13/20\n",
      "3000/3000 [==============================] - 1s 288us/sample - loss: 0.0153 - acc: 0.9950\n",
      "Epoch 14/20\n",
      "3000/3000 [==============================] - 1s 289us/sample - loss: 0.0051 - acc: 0.9987\n",
      "Epoch 15/20\n",
      "3000/3000 [==============================] - 1s 286us/sample - loss: 0.0039 - acc: 0.9990\n",
      "Epoch 16/20\n",
      "3000/3000 [==============================] - 1s 309us/sample - loss: 0.0016 - acc: 0.9997\n",
      "Epoch 17/20\n",
      "3000/3000 [==============================] - 1s 288us/sample - loss: 8.4047e-04 - acc: 1.0000\n",
      "Epoch 18/20\n",
      "3000/3000 [==============================] - 1s 290us/sample - loss: 5.5401e-04 - acc: 1.0000\n",
      "Epoch 19/20\n",
      "3000/3000 [==============================] - 1s 329us/sample - loss: 3.9804e-04 - acc: 1.0000\n",
      "Epoch 20/20\n",
      "3000/3000 [==============================] - 1s 327us/sample - loss: 3.3200e-04 - acc: 1.0000\n"
     ]
    },
    {
     "data": {
      "text/plain": [
       "<tensorflow.python.keras.callbacks.History at 0x2995e9e6848>"
      ]
     },
     "execution_count": 262,
     "metadata": {},
     "output_type": "execute_result"
    }
   ],
   "source": [
    "model.fit(X_train, y_train, batch_size=50, epochs=20)"
   ]
  },
  {
   "cell_type": "code",
   "execution_count": 263,
   "metadata": {},
   "outputs": [],
   "source": [
    "from sklearn.metrics import confusion_matrix, classification_report"
   ]
  },
  {
   "cell_type": "code",
   "execution_count": 264,
   "metadata": {},
   "outputs": [],
   "source": [
    "predicted = model.predict_classes(X_test)"
   ]
  },
  {
   "cell_type": "code",
   "execution_count": 265,
   "metadata": {},
   "outputs": [
    {
     "data": {
      "text/plain": [
       "array([[740,   6],\n",
       "       [  6, 248]], dtype=int64)"
      ]
     },
     "execution_count": 265,
     "metadata": {},
     "output_type": "execute_result"
    }
   ],
   "source": [
    "confusion_matrix(predicted, y_test)"
   ]
  },
  {
   "cell_type": "code",
   "execution_count": 266,
   "metadata": {},
   "outputs": [
    {
     "name": "stdout",
     "output_type": "stream",
     "text": [
      "              precision    recall  f1-score   support\n",
      "\n",
      "           0       0.99      0.99      0.99       746\n",
      "           1       0.98      0.98      0.98       254\n",
      "\n",
      "    accuracy                           0.99      1000\n",
      "   macro avg       0.98      0.98      0.98      1000\n",
      "weighted avg       0.99      0.99      0.99      1000\n",
      "\n"
     ]
    }
   ],
   "source": [
    "print(classification_report(predicted, y_test))"
   ]
  },
  {
   "cell_type": "code",
   "execution_count": null,
   "metadata": {},
   "outputs": [],
   "source": []
  },
  {
   "cell_type": "code",
   "execution_count": null,
   "metadata": {},
   "outputs": [],
   "source": []
  },
  {
   "cell_type": "code",
   "execution_count": null,
   "metadata": {},
   "outputs": [],
   "source": []
  },
  {
   "cell_type": "code",
   "execution_count": null,
   "metadata": {},
   "outputs": [],
   "source": []
  },
  {
   "cell_type": "code",
   "execution_count": null,
   "metadata": {},
   "outputs": [],
   "source": []
  },
  {
   "cell_type": "code",
   "execution_count": null,
   "metadata": {},
   "outputs": [],
   "source": []
  },
  {
   "cell_type": "code",
   "execution_count": null,
   "metadata": {},
   "outputs": [],
   "source": []
  },
  {
   "cell_type": "code",
   "execution_count": null,
   "metadata": {},
   "outputs": [],
   "source": []
  },
  {
   "cell_type": "code",
   "execution_count": null,
   "metadata": {},
   "outputs": [],
   "source": []
  },
  {
   "cell_type": "code",
   "execution_count": null,
   "metadata": {},
   "outputs": [],
   "source": []
  },
  {
   "cell_type": "code",
   "execution_count": null,
   "metadata": {},
   "outputs": [],
   "source": []
  }
 ],
 "metadata": {
  "kernelspec": {
   "display_name": "Python 3",
   "language": "python",
   "name": "python3"
  },
  "language_info": {
   "codemirror_mode": {
    "name": "ipython",
    "version": 3
   },
   "file_extension": ".py",
   "mimetype": "text/x-python",
   "name": "python",
   "nbconvert_exporter": "python",
   "pygments_lexer": "ipython3",
   "version": "3.7.6"
  }
 },
 "nbformat": 4,
 "nbformat_minor": 4
}
